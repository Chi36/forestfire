{
  "nbformat": 4,
  "nbformat_minor": 0,
  "metadata": {
    "colab": {
      "provenance": [],
      "authorship_tag": "ABX9TyNB/CqZYGhV55H6/XKtLUE8",
      "include_colab_link": true
    },
    "kernelspec": {
      "name": "python3",
      "display_name": "Python 3"
    },
    "language_info": {
      "name": "python"
    }
  },
  "cells": [
    {
      "cell_type": "markdown",
      "metadata": {
        "id": "view-in-github",
        "colab_type": "text"
      },
      "source": [
        "<a href=\"https://colab.research.google.com/github/Chi36/forestfire/blob/main/Forestfireprediction.ipynb\" target=\"_parent\"><img src=\"https://colab.research.google.com/assets/colab-badge.svg\" alt=\"Open In Colab\"/></a>"
      ]
    },
    {
      "cell_type": "markdown",
      "source": [
        "#Data Preprocessing"
      ],
      "metadata": {
        "id": "zpTfzbYwN3rf"
      }
    },
    {
      "cell_type": "code",
      "source": [
        "# Import libraries\n",
        "import pandas as pd\n",
        "import numpy as np\n",
        "import matplotlib.pyplot as plt\n",
        "import seaborn as sns\n",
        "\n",
        "# Load dataset\n",
        "df = pd.read_excel('/content/wildfire_prediction_multi_output_dataset_v2.xlsx')\n",
        "\n",
        "# Display the first few rows\n",
        "print(df.head())"
      ],
      "metadata": {
        "colab": {
          "base_uri": "https://localhost:8080/"
        },
        "id": "DxkyuTGzIgKB",
        "outputId": "2179bf2e-e97b-476c-e436-6671ed751698"
      },
      "execution_count": 1,
      "outputs": [
        {
          "output_type": "stream",
          "name": "stdout",
          "text": [
            "   Temperature (°C)  Humidity (%)  Wind Speed (km/h)  Rainfall (mm)  \\\n",
            "0         27.733250     89.108222          13.165364      44.032705   \n",
            "1         28.789452     21.543283          37.853201      42.478192   \n",
            "2         30.256666     72.335215          19.592377      12.104919   \n",
            "3         17.856476     84.138818           5.448178            NaN   \n",
            "4         34.260178     62.698878          13.356131      27.465001   \n",
            "\n",
            "   Fuel Moisture (%) Vegetation Type  Slope (%) Region  Fire Size (hectares)  \\\n",
            "0          16.072075       Grassland  59.615524  South            442.648940   \n",
            "1          25.176666          Forest  26.995937  South             17.689832   \n",
            "2          22.251979       Shrubland  55.623107  South            256.142917   \n",
            "3          20.820927          Forest   3.944492   East            165.111292   \n",
            "4           6.842731       Shrubland  54.280029   West            160.298123   \n",
            "\n",
            "   Fire Duration (hours)  Suppression Cost ($) Fire Occurrence  \n",
            "0              11.616707         491412.168125             Yes  \n",
            "1               6.011346         422686.841282              No  \n",
            "2             117.204594         169153.057914             Yes  \n",
            "3              38.125806         374758.030195             Yes  \n",
            "4              15.668068         159537.710390             Yes  \n"
          ]
        }
      ]
    },
    {
      "cell_type": "code",
      "source": [
        "# Basic information about the dataset\n",
        "print(df.info())"
      ],
      "metadata": {
        "colab": {
          "base_uri": "https://localhost:8080/"
        },
        "id": "58WIZAxJNjlj",
        "outputId": "e28eaf39-cf56-46a3-8357-1798251ef472"
      },
      "execution_count": 2,
      "outputs": [
        {
          "output_type": "stream",
          "name": "stdout",
          "text": [
            "<class 'pandas.core.frame.DataFrame'>\n",
            "RangeIndex: 5000 entries, 0 to 4999\n",
            "Data columns (total 12 columns):\n",
            " #   Column                 Non-Null Count  Dtype  \n",
            "---  ------                 --------------  -----  \n",
            " 0   Temperature (°C)       4753 non-null   float64\n",
            " 1   Humidity (%)           4750 non-null   float64\n",
            " 2   Wind Speed (km/h)      4750 non-null   float64\n",
            " 3   Rainfall (mm)          4750 non-null   float64\n",
            " 4   Fuel Moisture (%)      4750 non-null   float64\n",
            " 5   Vegetation Type        5000 non-null   object \n",
            " 6   Slope (%)              5000 non-null   float64\n",
            " 7   Region                 5000 non-null   object \n",
            " 8   Fire Size (hectares)   4756 non-null   float64\n",
            " 9   Fire Duration (hours)  4750 non-null   float64\n",
            " 10  Suppression Cost ($)   4750 non-null   float64\n",
            " 11  Fire Occurrence        5000 non-null   object \n",
            "dtypes: float64(9), object(3)\n",
            "memory usage: 468.9+ KB\n",
            "None\n"
          ]
        }
      ]
    },
    {
      "cell_type": "markdown",
      "source": [
        "Summary Statistics"
      ],
      "metadata": {
        "id": "_0HknfWnNw6n"
      }
    },
    {
      "cell_type": "code",
      "source": [
        "# Summary statistics\n",
        "print(df.describe())"
      ],
      "metadata": {
        "colab": {
          "base_uri": "https://localhost:8080/"
        },
        "id": "YFDqaYzxNzdR",
        "outputId": "88e985cc-e2de-426c-ab4b-6a7d1a580759"
      },
      "execution_count": 3,
      "outputs": [
        {
          "output_type": "stream",
          "name": "stdout",
          "text": [
            "       Temperature (°C)  Humidity (%)  Wind Speed (km/h)  Rainfall (mm)  \\\n",
            "count       4753.000000   4750.000000        4750.000000    4750.000000   \n",
            "mean          30.559802     49.377604          20.147253      25.295303   \n",
            "std            9.402463     23.205739          11.539852      14.435450   \n",
            "min           15.002875     10.003265           0.031548       0.010413   \n",
            "25%           22.539120     29.010613          10.172871      12.924704   \n",
            "50%           30.503760     48.865124          20.134280      25.452002   \n",
            "75%           37.984770     69.060730          30.397929      37.959436   \n",
            "max           56.131937     89.974529          39.997698      49.999283   \n",
            "\n",
            "       Fuel Moisture (%)    Slope (%)  Fire Size (hectares)  \\\n",
            "count        4750.000000  5000.000000           4756.000000   \n",
            "mean           22.510023    29.956677            263.269659   \n",
            "std            10.046614    17.301284            176.795086   \n",
            "min             5.005384     0.015012              0.078304   \n",
            "25%            13.795764    14.850011            125.423007   \n",
            "50%            22.374514    29.899970            252.202772   \n",
            "75%            31.135407    45.040702            380.896312   \n",
            "max            39.995114    59.989769            971.349463   \n",
            "\n",
            "       Fire Duration (hours)  Suppression Cost ($)  \n",
            "count            4750.000000           4750.000000  \n",
            "mean               59.818449         248881.334377  \n",
            "std                34.883902         145005.668615  \n",
            "min                 0.008886           1068.279487  \n",
            "25%                29.641224         121385.330783  \n",
            "50%                59.680007         248508.829418  \n",
            "75%                90.160282         374646.904065  \n",
            "max               119.994633         499980.374078  \n"
          ]
        }
      ]
    },
    {
      "cell_type": "markdown",
      "source": [
        "Checking for missing values\n",
        "\n"
      ],
      "metadata": {
        "id": "oQbAM0ICN_8s"
      }
    },
    {
      "cell_type": "code",
      "source": [
        "import pandas as pd\n",
        "\n",
        "# Load your dataset into a DataFrame\n",
        "df = pd.read_excel('/content/wildfire_prediction_multi_output_dataset_v2.xlsx')\n",
        "\n",
        "# Check for missing values\n",
        "missing_values = df.isnull().sum()\n",
        "\n",
        "# Print the count of missing values for each column\n",
        "print(\"Missing values per column:\")\n",
        "print(missing_values)\n",
        "\n",
        "# Check if there are any missing values in the entire DataFrame\n",
        "has_missing_values = df.isnull().any().any()\n",
        "print(\"Has missing values:\", has_missing_values)"
      ],
      "metadata": {
        "colab": {
          "base_uri": "https://localhost:8080/"
        },
        "id": "Rq9KWWyvN-1e",
        "outputId": "909861b1-a5ee-47b5-e49a-eff0a9aaea31"
      },
      "execution_count": 4,
      "outputs": [
        {
          "output_type": "stream",
          "name": "stdout",
          "text": [
            "Missing values per column:\n",
            "Temperature (°C)         247\n",
            "Humidity (%)             250\n",
            "Wind Speed (km/h)        250\n",
            "Rainfall (mm)            250\n",
            "Fuel Moisture (%)        250\n",
            "Vegetation Type            0\n",
            "Slope (%)                  0\n",
            "Region                     0\n",
            "Fire Size (hectares)     244\n",
            "Fire Duration (hours)    250\n",
            "Suppression Cost ($)     250\n",
            "Fire Occurrence            0\n",
            "dtype: int64\n",
            "Has missing values: True\n"
          ]
        }
      ]
    },
    {
      "cell_type": "markdown",
      "source": [
        "#Imputation"
      ],
      "metadata": {
        "id": "1uGKvRf4OUDt"
      }
    },
    {
      "cell_type": "code",
      "source": [
        "import pandas as pd\n",
        "from sklearn.impute import SimpleImputer\n",
        "\n",
        "# Step 1: Load the data\n",
        "df = pd.read_excel('/content/wildfire_prediction_multi_output_dataset_v2.xlsx')  # Replace with your actual file path\n",
        "\n",
        "# Step 2: Identify numerical columns (exclude non-relevant columns like 'Unnamed: 0')\n",
        "numerical_columns = df.select_dtypes(include=['float64', 'int64']).columns  # Numerical columns\n",
        "numerical_columns = [col for col in numerical_columns if 'Unnamed' not in col]  # Remove 'Unnamed' columns\n",
        "print(\"Numerical columns:\", numerical_columns)  # Debugging: Check the numerical columns\n",
        "\n",
        "# Step 3: Check if there are numerical columns\n",
        "if len(numerical_columns) > 0:\n",
        "    # Step 4: Impute missing values for numerical columns (using median for numerical columns)\n",
        "    imputer_num = SimpleImputer(strategy='median')  # Using median for numerical columns\n",
        "\n",
        "    # Ensure that we have valid numerical columns to impute\n",
        "    df[numerical_columns] = imputer_num.fit_transform(df[numerical_columns])\n",
        "\n",
        "# Step 5: Verify the imputation for numerical columns\n",
        "print(\"\\nAfter numerical imputation, missing data summary:\")\n",
        "print(df.isnull().sum())  # Check if there are still any missing values\n",
        "\n",
        "# Step 6: Save the cleaned dataset (optional)\n",
        "df.to_excel('cleaned_data_no_missing_values_numerical.xlsx', index=False)  # Save the cleaned dataset to a new Excel file"
      ],
      "metadata": {
        "colab": {
          "base_uri": "https://localhost:8080/"
        },
        "id": "1H0GfIXjOMZD",
        "outputId": "a1dd710a-c2cb-4117-f743-3de71582b771"
      },
      "execution_count": 5,
      "outputs": [
        {
          "output_type": "stream",
          "name": "stdout",
          "text": [
            "Numerical columns: ['Temperature (°C)', 'Humidity (%)', 'Wind Speed (km/h)', 'Rainfall (mm)', 'Fuel Moisture (%)', 'Slope (%)', 'Fire Size (hectares)', 'Fire Duration (hours)', 'Suppression Cost ($)']\n",
            "\n",
            "After numerical imputation, missing data summary:\n",
            "Temperature (°C)         0\n",
            "Humidity (%)             0\n",
            "Wind Speed (km/h)        0\n",
            "Rainfall (mm)            0\n",
            "Fuel Moisture (%)        0\n",
            "Vegetation Type          0\n",
            "Slope (%)                0\n",
            "Region                   0\n",
            "Fire Size (hectares)     0\n",
            "Fire Duration (hours)    0\n",
            "Suppression Cost ($)     0\n",
            "Fire Occurrence          0\n",
            "dtype: int64\n"
          ]
        }
      ]
    },
    {
      "cell_type": "markdown",
      "source": [
        "#Recheck missing values"
      ],
      "metadata": {
        "id": "L-chcD03OllJ"
      }
    },
    {
      "cell_type": "code",
      "source": [
        "import pandas as pd\n",
        "import numpy as np\n",
        "\n",
        "# df = pd.read_excel('/content/cleaned_data_no_missing_values_numerical.xlsx')\n",
        "\n",
        "# Step 1: Identify numerical columns\n",
        "numerical_columns = df.select_dtypes(include=['float64', 'int64']).columns\n",
        "\n",
        "# Step 2: Generate synthetic data for missing numerical values\n",
        "for col in numerical_columns:\n",
        "    # Get the column data\n",
        "    data = df[col]\n",
        "\n",
        "\n",
        "# Step 2: Verify the result\n",
        "print(f\"Data shape after imputation: {df.shape}\")\n",
        "print(f\"Missing values after imputation:\\n{df.isnull().sum()}\")"
      ],
      "metadata": {
        "colab": {
          "base_uri": "https://localhost:8080/"
        },
        "id": "Mfd3zvN8OiXE",
        "outputId": "cdfc0b57-518f-48ce-8566-e8fbe322d30a"
      },
      "execution_count": 6,
      "outputs": [
        {
          "output_type": "stream",
          "name": "stdout",
          "text": [
            "Data shape after imputation: (5000, 12)\n",
            "Missing values after imputation:\n",
            "Temperature (°C)         0\n",
            "Humidity (%)             0\n",
            "Wind Speed (km/h)        0\n",
            "Rainfall (mm)            0\n",
            "Fuel Moisture (%)        0\n",
            "Vegetation Type          0\n",
            "Slope (%)                0\n",
            "Region                   0\n",
            "Fire Size (hectares)     0\n",
            "Fire Duration (hours)    0\n",
            "Suppression Cost ($)     0\n",
            "Fire Occurrence          0\n",
            "dtype: int64\n"
          ]
        }
      ]
    },
    {
      "cell_type": "markdown",
      "source": [
        "#Check for outliers"
      ],
      "metadata": {
        "id": "CVdlpHtwOqIV"
      }
    },
    {
      "cell_type": "code",
      "source": [
        "import pandas as pd\n",
        "import numpy as np\n",
        "import scipy.stats as stats\n",
        "\n",
        "# df = pd.read_excel('/content/cleaned_data_no_missing_values_numerical.xlsx')\n",
        "\n",
        "# Step 1: Identify numerical columns in the DataFrame\n",
        "numerical_columns = df.select_dtypes(include=['float64', 'int64']).columns\n",
        "\n",
        "# Step 2: Function to detect outliers using Z-score\n",
        "def detect_outliers_zscore(df, columns, threshold=3):\n",
        "    outliers = pd.DataFrame()  # Initialize an empty DataFrame to store outlier information\n",
        "    for col in columns:\n",
        "        # Calculate the Z-score for the column\n",
        "        z_scores = stats.zscore(df[col].dropna())  # Drop NaN values before calculating z-score\n",
        "        # Identify outliers: If Z-score > threshold, consider it an outlier\n",
        "        outlier_idx = np.where(np.abs(z_scores) > threshold)[0]\n",
        "        if len(outlier_idx) > 0:\n",
        "            outliers[col] = df.iloc[outlier_idx][col]\n",
        "    return outliers\n",
        "\n",
        "# Step 3: Function to detect outliers using IQR\n",
        "def detect_outliers_iqr(df, columns):\n",
        "    outliers = pd.DataFrame()  # Initialize an empty DataFrame to store outlier information\n",
        "    for col in columns:\n",
        "        # Calculate the Q1 (25th percentile) and Q3 (75th percentile)\n",
        "        Q1 = df[col].quantile(0.25)\n",
        "        Q3 = df[col].quantile(0.75)\n",
        "        IQR = Q3 - Q1\n",
        "\n",
        "        # Calculate the lower and upper bounds\n",
        "        lower_bound = Q1 - 1.5 * IQR\n",
        "        upper_bound = Q3 + 1.5 * IQR\n",
        "\n",
        "        # Identify outliers: If data is below lower bound or above upper bound, it's an outlier\n",
        "        outlier_idx = df[(df[col] < lower_bound) | (df[col] > upper_bound)].index\n",
        "        if len(outlier_idx) > 0:\n",
        "            outliers[col] = df.loc[outlier_idx, col]\n",
        "    return outliers\n",
        "\n",
        "# Step 4: Detect outliers using Z-score\n",
        "zscore_outliers = detect_outliers_zscore(df, numerical_columns)\n",
        "\n",
        "# Step 5: Detect outliers using IQR\n",
        "iqr_outliers = detect_outliers_iqr(df, numerical_columns)\n",
        "\n",
        "# Step 6: Print outliers detected by both methods\n",
        "print(\"Outliers detected using Z-score method:\")\n",
        "print(zscore_outliers)\n",
        "\n",
        "print(\"\\nOutliers detected using IQR method:\")\n",
        "print(iqr_outliers)\n",
        "\n",
        "# Optionally, you can save the outliers to an Excel file:\n",
        "# zscore_outliers.to_excel('zscore_outliers.xlsx', index=False)\n",
        "# iqr_outliers.to_excel('iqr_outliers.xlsx', index=False)"
      ],
      "metadata": {
        "colab": {
          "base_uri": "https://localhost:8080/"
        },
        "id": "PoEBuAYKOqm0",
        "outputId": "ca5f9cc4-fd4f-4c6d-aaf6-d54c989d5c46"
      },
      "execution_count": 7,
      "outputs": [
        {
          "output_type": "stream",
          "name": "stdout",
          "text": [
            "Outliers detected using Z-score method:\n",
            "      Fire Size (hectares)\n",
            "63              971.349463\n",
            "101             971.349463\n",
            "170             971.349463\n",
            "183             971.349463\n",
            "347             971.349463\n",
            "...                    ...\n",
            "4627            971.349463\n",
            "4687            971.349463\n",
            "4841            971.349463\n",
            "4842            971.349463\n",
            "4957            971.349463\n",
            "\n",
            "[100 rows x 1 columns]\n",
            "\n",
            "Outliers detected using IQR method:\n",
            "      Fire Size (hectares)\n",
            "63              971.349463\n",
            "101             971.349463\n",
            "170             971.349463\n",
            "183             971.349463\n",
            "347             971.349463\n",
            "...                    ...\n",
            "4627            971.349463\n",
            "4687            971.349463\n",
            "4841            971.349463\n",
            "4842            971.349463\n",
            "4957            971.349463\n",
            "\n",
            "[100 rows x 1 columns]\n"
          ]
        }
      ]
    },
    {
      "cell_type": "markdown",
      "source": [
        "#Check for categorical variables"
      ],
      "metadata": {
        "id": "PIHoY_62PFSR"
      }
    },
    {
      "cell_type": "code",
      "source": [
        "# Get the data types of each column\n",
        "data_types = df.dtypes\n",
        "\n",
        "# Print the data types\n",
        "print(data_types)\n",
        "\n",
        "# Identify numeric and categorical columns\n",
        "numeric_cols = df.select_dtypes(include=['int64', 'float64']).columns\n",
        "categorical_cols = df.select_dtypes(include=['object']).columns\n",
        "\n",
        "print(\"\\nNumeric columns:\", numeric_cols)\n",
        "print(\"\\nCategorical columns:\", categorical_cols)"
      ],
      "metadata": {
        "colab": {
          "base_uri": "https://localhost:8080/"
        },
        "id": "in9m2ldXO1jC",
        "outputId": "fe385340-7ffc-4ca0-ab0c-c80e196d688b"
      },
      "execution_count": 8,
      "outputs": [
        {
          "output_type": "stream",
          "name": "stdout",
          "text": [
            "Temperature (°C)         float64\n",
            "Humidity (%)             float64\n",
            "Wind Speed (km/h)        float64\n",
            "Rainfall (mm)            float64\n",
            "Fuel Moisture (%)        float64\n",
            "Vegetation Type           object\n",
            "Slope (%)                float64\n",
            "Region                    object\n",
            "Fire Size (hectares)     float64\n",
            "Fire Duration (hours)    float64\n",
            "Suppression Cost ($)     float64\n",
            "Fire Occurrence           object\n",
            "dtype: object\n",
            "\n",
            "Numeric columns: Index(['Temperature (°C)', 'Humidity (%)', 'Wind Speed (km/h)',\n",
            "       'Rainfall (mm)', 'Fuel Moisture (%)', 'Slope (%)',\n",
            "       'Fire Size (hectares)', 'Fire Duration (hours)',\n",
            "       'Suppression Cost ($)'],\n",
            "      dtype='object')\n",
            "\n",
            "Categorical columns: Index(['Vegetation Type', 'Region', 'Fire Occurrence'], dtype='object')\n"
          ]
        }
      ]
    },
    {
      "cell_type": "markdown",
      "source": [
        "#Heatmaps"
      ],
      "metadata": {
        "id": "5n4ZL9LFPLIM"
      }
    },
    {
      "cell_type": "markdown",
      "source": [
        "Remove categorical variables before plotting heatmaps"
      ],
      "metadata": {
        "id": "IU9EnrOEPPQZ"
      }
    },
    {
      "cell_type": "code",
      "source": [
        "import pandas as pd\n",
        "import seaborn as sns\n",
        "import matplotlib.pyplot as plt\n",
        "\n",
        "# Load your dataset\n",
        "data = pd.read_excel('/content/cleaned_data_no_missing_values_numerical.xlsx')\n",
        "\n",
        "# Remove categorical variables\n",
        "data_numerical = data.select_dtypes(include=['float64', 'int64'])\n",
        "\n",
        "# Display the numerical DataFrame\n",
        "print(\"\\nNumerical DataFrame (Categorical Variables Removed):\")\n",
        "print(data_numerical.head())\n",
        "\n",
        "# Calculate the correlation matrix\n",
        "correlation_matrix = data_numerical.corr()\n",
        "\n",
        "# Create a heatmap of the correlation matrix\n",
        "plt.figure(figsize=(12, 8))\n",
        "sns.heatmap(\n",
        "    correlation_matrix,\n",
        "    annot=True,            # Annotate cells with correlation coefficients\n",
        "    fmt=\".2f\",            # Format for the annotation\n",
        "    cmap='coolwarm',      # Color map for the heatmap\n",
        "    square=True,          # Make cells square-shaped\n",
        "    cbar_kws={\"shrink\": .8}  # Adjust color bar size\n",
        ")\n",
        "\n",
        "plt.title('Heatmap of Correlation Matrix (Numerical Variables Only)')\n",
        "plt.show()"
      ],
      "metadata": {
        "colab": {
          "base_uri": "https://localhost:8080/",
          "height": 1000
        },
        "id": "YsPh41oNPUju",
        "outputId": "c47e321c-9637-4039-fe74-0af303e74bbe"
      },
      "execution_count": 9,
      "outputs": [
        {
          "output_type": "stream",
          "name": "stdout",
          "text": [
            "\n",
            "Numerical DataFrame (Categorical Variables Removed):\n",
            "   Temperature (°C)  Humidity (%)  Wind Speed (km/h)  Rainfall (mm)  \\\n",
            "0         27.733250     89.108222          13.165364      44.032705   \n",
            "1         28.789452     21.543283          37.853201      42.478192   \n",
            "2         30.256666     72.335215          19.592377      12.104919   \n",
            "3         17.856476     84.138818           5.448178      25.452002   \n",
            "4         34.260178     62.698878          13.356131      27.465001   \n",
            "\n",
            "   Fuel Moisture (%)  Slope (%)  Fire Size (hectares)  Fire Duration (hours)  \\\n",
            "0          16.072075  59.615524            442.648940              11.616707   \n",
            "1          25.176666  26.995937             17.689832               6.011346   \n",
            "2          22.251979  55.623107            256.142917             117.204594   \n",
            "3          20.820927   3.944492            165.111292              38.125806   \n",
            "4           6.842731  54.280029            160.298123              15.668068   \n",
            "\n",
            "   Suppression Cost ($)  \n",
            "0         491412.168125  \n",
            "1         422686.841282  \n",
            "2         169153.057914  \n",
            "3         374758.030195  \n",
            "4         159537.710390  \n"
          ]
        },
        {
          "output_type": "display_data",
          "data": {
            "text/plain": [
              "<Figure size 1200x800 with 2 Axes>"
            ],
            "image/png": "[encoded data removed]"
          },
          "metadata": {}
        }
      ]
    },
    {
      "cell_type": "markdown",
      "source": [
        "#Training and selection of appropriate model"
      ],
      "metadata": {
        "id": "iX7UbNp6QOvp"
      }
    },
    {
      "cell_type": "code",
      "source": [
        "import pandas as pd\n",
        "import numpy as np\n",
        "from sklearn.model_selection import train_test_split\n",
        "from sklearn.metrics import mean_absolute_error, r2_score\n",
        "from sklearn.linear_model import LinearRegression\n",
        "from sklearn.ensemble import RandomForestRegressor\n",
        "from sklearn.svm import SVR\n",
        "from sklearn.neighbors import KNeighborsRegressor\n",
        "from sklearn.tree import DecisionTreeRegressor\n",
        "\n",
        "# Load your dataset (replace with actual dataset for fire prediction)\n",
        "df = pd.read_excel('/content/cleaned_data_no_missing_values_numerical.xlsx')\n",
        "\n",
        "# Print column names to verify\n",
        "print(\"Columns in the dataset:\", df.columns)\n",
        "\n",
        "# Remove categorical columns before training (drop columns with object data type)\n",
        "df = df.select_dtypes(include=[np.number])\n",
        "\n",
        "# List of feature columns relevant to fire prediction (numeric columns only)\n",
        "features = [col for col in df.columns if col != 'Fire Size (Hectares)' and col != 'Fire Duration' and col != 'Suppression Cost' and col != 'Fire Occurrence']\n",
        "\n",
        "# Define target variables (fire metrics) - Update these if necessary\n",
        "target_variables = ['Fire Size (Hectares)', 'Fire Duration', 'Suppression Cost', 'Fire Occurrence']\n",
        "\n",
        "# Check if target columns exist after removing categorical variables\n",
        "for target in target_variables:\n",
        "    if target not in df.columns:\n",
        "        print(f\"Warning: Target variable '{target}' not found in dataset.\")\n",
        "    else:\n",
        "        print(f\"Target variable '{target}' is present.\")\n",
        "\n",
        "# Dictionary to hold the best models\n",
        "best_models = {}\n",
        "\n",
        "# Train models for each fire metric\n",
        "for target_variable in target_variables:\n",
        "    # Ensure target variable exists in the dataframe\n",
        "    if target_variable not in df.columns:\n",
        "        print(f\"Skipping model training for '{target_variable}' as it is not in the dataset.\")\n",
        "        continue\n",
        "\n",
        "    # Prepare the feature set (X) and current target variable (y)\n",
        "    X = df[features]\n",
        "    y = df[target_variable]\n",
        "\n",
        "    # Split the data into training and testing sets (80% training, 20% testing)\n",
        "    X_train, X_test, y_train, y_test = train_test_split(X, y, test_size=0.2, random_state=42)\n",
        "\n",
        "    # Define the models to evaluate\n",
        "    models = {\n",
        "        \"Linear Regression\": LinearRegression(),\n",
        "        \"Random Forest\": RandomForestRegressor(),\n",
        "        \"Support Vector Regressor\": SVR(),\n",
        "        \"K-Neighbors Regressor\": KNeighborsRegressor(),\n",
        "        \"Decision Tree Regressor\": DecisionTreeRegressor()\n",
        "    }\n",
        "\n",
        "    # Evaluate each model\n",
        "    model_results = {}\n",
        "    for name, model in models.items():\n",
        "        # Fit the model on the training data\n",
        "        model.fit(X_train, y_train)\n",
        "\n",
        "        # Make predictions on the test data\n",
        "        predictions = model.predict(X_test)\n",
        "\n",
        "        # Calculate Mean Absolute Error (MAE) and R² for model evaluation\n",
        "        mae = mean_absolute_error(y_test, predictions)\n",
        "        r2 = r2_score(y_test, predictions)\n",
        "\n",
        "        # Store the result in the dictionary\n",
        "        model_results[name] = {'MAE': mae, 'R²': r2}\n",
        "\n",
        "        # Print the result for this model\n",
        "        print(f\"{target_variable} - {name}: MAE = {mae:.4f}, R² = {r2:.4f}\")\n",
        "\n",
        "    # Store the best model for each fire metric (lowest MAE)\n",
        "    best_model_name = min(model_results, key=lambda x: model_results[x]['MAE'])\n",
        "    best_model = models[best_model_name]\n",
        "    best_models[target_variable] = (best_model_name, best_model)\n",
        "\n",
        "# Define the prediction function\n",
        "def predict_fire_metrics(temperature, humidity, wind_speed, rainfall, fuel_moisture, slope):\n",
        "    # Prepare the input data, ensuring only numeric features\n",
        "    input_data = pd.DataFrame({\n",
        "        'Temperature (°C)': [temperature],\n",
        "        'Humidity (%)': [humidity],\n",
        "        'Wind Speed (km/h)': [wind_speed],\n",
        "        'Rainfall (mm)': [rainfall],\n",
        "        'Fuel Moisture (%)': [fuel_moisture],\n",
        "        'Slope (%)': [slope]\n",
        "    })\n",
        "\n",
        "    # Ensure that all necessary columns are in the input data (only numeric features)\n",
        "    input_data = input_data.reindex(columns=X.columns, fill_value=0)\n",
        "\n",
        "    predictions = {}\n",
        "    for output_name in target_variables:\n",
        "        try:\n",
        "            # Get the best model for the current fire metric\n",
        "            if output_name in best_models:\n",
        "                model_name, model = best_models[output_name]\n",
        "                prediction = model.predict(input_data)[0]\n",
        "                predictions[f'{model_name} - {output_name}'] = prediction\n",
        "            else:\n",
        "                predictions[f'{output_name}'] = \"No model available for prediction.\"\n",
        "        except Exception as e:\n",
        "            predictions[f'{output_name}'] = f\"Error: {e}\"\n",
        "\n",
        "    return predictions\n",
        "\n",
        "# Example usage of the prediction function\n",
        "predictions = predict_fire_metrics(30, 40, 15, 10, 12, 20)\n",
        "print(predictions)\n",
        "\n"
      ],
      "metadata": {
        "colab": {
          "base_uri": "https://localhost:8080/"
        },
        "id": "GxIM5Hl9U2jF",
        "outputId": "1ab4a827-8539-4de7-f223-7ee4ffac0963"
      },
      "execution_count": 21,
      "outputs": [
        {
          "output_type": "stream",
          "name": "stdout",
          "text": [
            "Columns in the dataset: Index(['Temperature (°C)', 'Humidity (%)', 'Wind Speed (km/h)',\n",
            "       'Rainfall (mm)', 'Fuel Moisture (%)', 'Vegetation Type', 'Slope (%)',\n",
            "       'Region', 'Fire Size (hectares)', 'Fire Duration (hours)',\n",
            "       'Suppression Cost ($)', 'Fire Occurrence'],\n",
            "      dtype='object')\n",
            "Warning: Target variable 'Fire Size (Hectares)' not found in dataset.\n",
            "Warning: Target variable 'Fire Duration' not found in dataset.\n",
            "Warning: Target variable 'Suppression Cost' not found in dataset.\n",
            "Warning: Target variable 'Fire Occurrence' not found in dataset.\n",
            "Skipping model training for 'Fire Size (Hectares)' as it is not in the dataset.\n",
            "Skipping model training for 'Fire Duration' as it is not in the dataset.\n",
            "Skipping model training for 'Suppression Cost' as it is not in the dataset.\n",
            "Skipping model training for 'Fire Occurrence' as it is not in the dataset.\n",
            "{'Fire Size (Hectares)': 'No model available for prediction.', 'Fire Duration': 'No model available for prediction.', 'Suppression Cost': 'No model available for prediction.', 'Fire Occurrence': 'No model available for prediction.'}\n"
          ]
        }
      ]
    },
    {
      "cell_type": "code",
      "source": [
        "!pip install gradio\n",
        "import pandas as pd\n",
        "import numpy as np\n",
        "from sklearn.model_selection import cross_val_score, KFold\n",
        "from sklearn.impute import SimpleImputer\n",
        "from sklearn.preprocessing import OneHotEncoder, StandardScaler\n",
        "from sklearn.ensemble import RandomForestRegressor\n",
        "from sklearn.linear_model import LinearRegression\n",
        "from sklearn.svm import SVR\n",
        "from sklearn.neighbors import KNeighborsRegressor\n",
        "from sklearn.metrics import make_scorer, r2_score, mean_squared_error, mean_absolute_error\n",
        "import matplotlib.pyplot as plt\n",
        "import pickle\n",
        "import warnings\n",
        "import gradio as gr\n",
        "\n",
        "warnings.filterwarnings(\"ignore\")\n",
        "\n",
        "# Load dataset\n",
        "file_path = \"wildfire_prediction_multi_output_dataset_v2.xlsx\"  # Replace with your Excel file path\n",
        "df = pd.read_excel(file_path)\n",
        "\n",
        "# Separate numeric and categorical columns\n",
        "numeric_columns = ['Temperature (°C)', 'Humidity (%)', 'Wind Speed (km/h)',\n",
        "                   'Rainfall (mm)', 'Fuel Moisture (%)', 'Slope (%)']\n",
        "categorical_columns = ['Vegetation Type', 'Region']\n",
        "\n",
        "# Handle missing values\n",
        "numeric_imputer = SimpleImputer(strategy=\"mean\")\n",
        "df[numeric_columns] = numeric_imputer.fit_transform(df[numeric_columns])\n",
        "\n",
        "categorical_imputer = SimpleImputer(strategy=\"most_frequent\")\n",
        "df[categorical_columns] = categorical_imputer.fit_transform(df[categorical_columns])\n",
        "\n",
        "# One-Hot Encode Categorical Variables\n",
        "encoder = OneHotEncoder(sparse_output=False)  # Updated to sparse_output=False\n",
        "encoded_vars = encoder.fit_transform(df[categorical_columns])\n",
        "encoded_df = pd.DataFrame(encoded_vars, columns=encoder.get_feature_names_out())\n",
        "\n",
        "# Drop original categorical columns and concatenate encoded ones\n",
        "df = df.drop(categorical_columns, axis=1)\n",
        "df = pd.concat([df, encoded_df], axis=1)\n",
        "\n",
        "# Split input (X) and output (y)\n",
        "X = df.iloc[:, :-4]  # Inputs (first columns excluding the last 4)\n",
        "y1, y2, y3, y4 = df.iloc[:, -4], df.iloc[:, -3], df.iloc[:, -2], df.iloc[:, -1]\n",
        "\n",
        "# One-Hot Encode the target variables if they are categorical\n",
        "y4 = y4.map({'Yes': 1, 'No': 0})  # Adjust based on your dataset\n",
        "\n",
        "# Ensure all features are numeric\n",
        "X = X.apply(pd.to_numeric, errors='coerce')\n",
        "X = X.fillna(0)  # Fill any remaining NaN values with 0\n",
        "\n",
        "# Define models to be used\n",
        "models = {\n",
        "    'RandomForest': RandomForestRegressor(),\n",
        "    'LinearRegression': LinearRegression(),\n",
        "    'SVR': SVR(),\n",
        "    'KNN': KNeighborsRegressor(),\n",
        "}\n",
        "\n",
        "# Train models and select the best one\n",
        "best_models = {}\n",
        "for output_name, y in {'Fire Size': y1, 'Fire Duration': y2, 'Suppression Cost': y3, 'Fire Occurrence': y4}.items():\n",
        "    best_score = -np.inf\n",
        "    best_model = None\n",
        "    for model_name, model in models.items():\n",
        "        try:\n",
        "            kf = KFold(n_splits=5, shuffle=True, random_state=42)\n",
        "            scores = cross_val_score(model, X, y, cv=kf, scoring='r2')\n",
        "            mean_score = np.mean(scores)\n",
        "            if mean_score > best_score:\n",
        "                best_score = mean_score\n",
        "                best_model = (model_name, model)\n",
        "        except Exception as e:\n",
        "            print(f\"Failed to train {model_name} for {output_name}: {e}\")\n",
        "    if best_model:\n",
        "        model_name, model = best_model\n",
        "        model.fit(X, y)\n",
        "        with open(f'best_{model_name}_{output_name}.pkl', 'wb') as model_file:\n",
        "            pickle.dump(model, model_file)\n",
        "        best_models[output_name] = (model_name, model)\n",
        "\n",
        "# Define Gradio app\n",
        "def predict_fire_metrics(temperature, humidity, wind_speed, rainfall, fuel_moisture, slope, vegetation_type, region):\n",
        "    input_data = pd.DataFrame({\n",
        "        'Temperature (°C)': [temperature],\n",
        "        'Humidity (%)': [humidity],\n",
        "        'Wind Speed (km/h)': [wind_speed],\n",
        "        'Rainfall (mm)': [rainfall],\n",
        "        'Fuel Moisture (%)': [fuel_moisture],\n",
        "        'Slope (%)': [slope],\n",
        "        'Vegetation Type_' + vegetation_type: [1],\n",
        "        'Region_' + region: [1]\n",
        "    })\n",
        "    input_data = input_data.reindex(columns=X.columns, fill_value=0)\n",
        "    predictions = {}\n",
        "    for output_name in ['Fire Size', 'Fire Duration', 'Suppression Cost', 'Fire Occurrence']:\n",
        "        try:\n",
        "            model_name, model = best_models[output_name]\n",
        "            prediction = model.predict(input_data)[0]\n",
        "            predictions[f'{model_name} - {output_name}'] = prediction\n",
        "        except Exception as e:\n",
        "            predictions[f'{output_name}'] = f\"Error: {e}\"\n",
        "    return predictions\n",
        "\n",
        "# Gradio Interface\n",
        "inputs = [\n",
        "    gr.Number(label='Temperature (°C)'),\n",
        "    gr.Number(label='Humidity (%)'),\n",
        "    gr.Number(label='Wind Speed (km/h)'),\n",
        "    gr.Number(label='Rainfall (mm)'),\n",
        "    gr.Number(label='Fuel Moisture (%)'),\n",
        "    gr.Number(label='Slope (%)'),\n",
        "    gr.Textbox(label='Vegetation Type'),\n",
        "    gr.Textbox(label='Region')\n",
        "]\n",
        "\n",
        "outputs = gr.JSON()\n",
        "\n",
        "app = gr.Interface(fn=predict_fire_metrics, inputs=inputs, outputs=outputs, title='Wildfire Metrics Prediction')\n",
        "\n",
        "if __name__ == \"__main__\":\n",
        "    app.launch()"
      ],
      "metadata": {
        "colab": {
          "base_uri": "https://localhost:8080/",
          "height": 1000
        },
        "id": "zzdDwg38Wl4J",
        "outputId": "3facf1c9-28ea-4deb-ba6b-06873d308f5a"
      },
      "execution_count": 22,
      "outputs": [
        {
          "output_type": "stream",
          "name": "stdout",
          "text": [
            "Collecting gradio\n",
            "  Downloading gradio-5.7.1-py3-none-any.whl.metadata (16 kB)\n",
            "Collecting aiofiles<24.0,>=22.0 (from gradio)\n",
            "  Downloading aiofiles-23.2.1-py3-none-any.whl.metadata (9.7 kB)\n",
            "Requirement already satisfied: anyio<5.0,>=3.0 in /usr/local/lib/python3.10/dist-packages (from gradio) (3.7.1)\n",
            "Collecting fastapi<1.0,>=0.115.2 (from gradio)\n",
            "  Downloading fastapi-0.115.5-py3-none-any.whl.metadata (27 kB)\n",
            "Collecting ffmpy (from gradio)\n",
            "  Downloading ffmpy-0.4.0-py3-none-any.whl.metadata (2.9 kB)\n",
            "Collecting gradio-client==1.5.0 (from gradio)\n",
            "  Downloading gradio_client-1.5.0-py3-none-any.whl.metadata (7.1 kB)\n",
            "Requirement already satisfied: httpx>=0.24.1 in /usr/local/lib/python3.10/dist-packages (from gradio) (0.27.2)\n",
            "Requirement already satisfied: huggingface-hub>=0.25.1 in /usr/local/lib/python3.10/dist-packages (from gradio) (0.26.2)\n",
            "Requirement already satisfied: jinja2<4.0 in /usr/local/lib/python3.10/dist-packages (from gradio) (3.1.4)\n",
            "Collecting markupsafe~=2.0 (from gradio)\n",
            "  Downloading MarkupSafe-2.1.5-cp310-cp310-manylinux_2_17_x86_64.manylinux2014_x86_64.whl.metadata (3.0 kB)\n",
            "Requirement already satisfied: numpy<3.0,>=1.0 in /usr/local/lib/python3.10/dist-packages (from gradio) (1.26.4)\n",
            "Requirement already satisfied: orjson~=3.0 in /usr/local/lib/python3.10/dist-packages (from gradio) (3.10.11)\n",
            "Requirement already satisfied: packaging in /usr/local/lib/python3.10/dist-packages (from gradio) (24.2)\n",
            "Requirement already satisfied: pandas<3.0,>=1.0 in /usr/local/lib/python3.10/dist-packages (from gradio) (2.2.2)\n",
            "Requirement already satisfied: pillow<12.0,>=8.0 in /usr/local/lib/python3.10/dist-packages (from gradio) (11.0.0)\n",
            "Requirement already satisfied: pydantic>=2.0 in /usr/local/lib/python3.10/dist-packages (from gradio) (2.9.2)\n",
            "Collecting pydub (from gradio)\n",
            "  Downloading pydub-0.25.1-py2.py3-none-any.whl.metadata (1.4 kB)\n",
            "Collecting python-multipart==0.0.12 (from gradio)\n",
            "  Downloading python_multipart-0.0.12-py3-none-any.whl.metadata (1.9 kB)\n",
            "Requirement already satisfied: pyyaml<7.0,>=5.0 in /usr/local/lib/python3.10/dist-packages (from gradio) (6.0.2)\n",
            "Collecting ruff>=0.2.2 (from gradio)\n",
            "  Downloading ruff-0.8.1-py3-none-manylinux_2_17_x86_64.manylinux2014_x86_64.whl.metadata (25 kB)\n",
            "Collecting safehttpx<1.0,>=0.1.1 (from gradio)\n",
            "  Downloading safehttpx-0.1.1-py3-none-any.whl.metadata (4.1 kB)\n",
            "Collecting semantic-version~=2.0 (from gradio)\n",
            "  Downloading semantic_version-2.10.0-py2.py3-none-any.whl.metadata (9.7 kB)\n",
            "Collecting starlette<1.0,>=0.40.0 (from gradio)\n",
            "  Downloading starlette-0.41.3-py3-none-any.whl.metadata (6.0 kB)\n",
            "Collecting tomlkit==0.12.0 (from gradio)\n",
            "  Downloading tomlkit-0.12.0-py3-none-any.whl.metadata (2.7 kB)\n",
            "Requirement already satisfied: typer<1.0,>=0.12 in /usr/local/lib/python3.10/dist-packages (from gradio) (0.13.0)\n",
            "Requirement already satisfied: typing-extensions~=4.0 in /usr/local/lib/python3.10/dist-packages (from gradio) (4.12.2)\n",
            "Collecting uvicorn>=0.14.0 (from gradio)\n",
            "  Downloading uvicorn-0.32.1-py3-none-any.whl.metadata (6.6 kB)\n",
            "Requirement already satisfied: fsspec in /usr/local/lib/python3.10/dist-packages (from gradio-client==1.5.0->gradio) (2024.10.0)\n",
            "Collecting websockets<13.0,>=10.0 (from gradio-client==1.5.0->gradio)\n",
            "  Downloading websockets-12.0-cp310-cp310-manylinux_2_5_x86_64.manylinux1_x86_64.manylinux_2_17_x86_64.manylinux2014_x86_64.whl.metadata (6.6 kB)\n",
            "Requirement already satisfied: idna>=2.8 in /usr/local/lib/python3.10/dist-packages (from anyio<5.0,>=3.0->gradio) (3.10)\n",
            "Requirement already satisfied: sniffio>=1.1 in /usr/local/lib/python3.10/dist-packages (from anyio<5.0,>=3.0->gradio) (1.3.1)\n",
            "Requirement already satisfied: exceptiongroup in /usr/local/lib/python3.10/dist-packages (from anyio<5.0,>=3.0->gradio) (1.2.2)\n",
            "Requirement already satisfied: certifi in /usr/local/lib/python3.10/dist-packages (from httpx>=0.24.1->gradio) (2024.8.30)\n",
            "Requirement already satisfied: httpcore==1.* in /usr/local/lib/python3.10/dist-packages (from httpx>=0.24.1->gradio) (1.0.7)\n",
            "Requirement already satisfied: h11<0.15,>=0.13 in /usr/local/lib/python3.10/dist-packages (from httpcore==1.*->httpx>=0.24.1->gradio) (0.14.0)\n",
            "Requirement already satisfied: filelock in /usr/local/lib/python3.10/dist-packages (from huggingface-hub>=0.25.1->gradio) (3.16.1)\n",
            "Requirement already satisfied: requests in /usr/local/lib/python3.10/dist-packages (from huggingface-hub>=0.25.1->gradio) (2.32.3)\n",
            "Requirement already satisfied: tqdm>=4.42.1 in /usr/local/lib/python3.10/dist-packages (from huggingface-hub>=0.25.1->gradio) (4.66.6)\n",
            "Requirement already satisfied: python-dateutil>=2.8.2 in /usr/local/lib/python3.10/dist-packages (from pandas<3.0,>=1.0->gradio) (2.8.2)\n",
            "Requirement already satisfied: pytz>=2020.1 in /usr/local/lib/python3.10/dist-packages (from pandas<3.0,>=1.0->gradio) (2024.2)\n",
            "Requirement already satisfied: tzdata>=2022.7 in /usr/local/lib/python3.10/dist-packages (from pandas<3.0,>=1.0->gradio) (2024.2)\n",
            "Requirement already satisfied: annotated-types>=0.6.0 in /usr/local/lib/python3.10/dist-packages (from pydantic>=2.0->gradio) (0.7.0)\n",
            "Requirement already satisfied: pydantic-core==2.23.4 in /usr/local/lib/python3.10/dist-packages (from pydantic>=2.0->gradio) (2.23.4)\n",
            "Requirement already satisfied: click>=8.0.0 in /usr/local/lib/python3.10/dist-packages (from typer<1.0,>=0.12->gradio) (8.1.7)\n",
            "Requirement already satisfied: shellingham>=1.3.0 in /usr/local/lib/python3.10/dist-packages (from typer<1.0,>=0.12->gradio) (1.5.4)\n",
            "Requirement already satisfied: rich>=10.11.0 in /usr/local/lib/python3.10/dist-packages (from typer<1.0,>=0.12->gradio) (13.9.4)\n",
            "Requirement already satisfied: six>=1.5 in /usr/local/lib/python3.10/dist-packages (from python-dateutil>=2.8.2->pandas<3.0,>=1.0->gradio) (1.16.0)\n",
            "Requirement already satisfied: markdown-it-py>=2.2.0 in /usr/local/lib/python3.10/dist-packages (from rich>=10.11.0->typer<1.0,>=0.12->gradio) (3.0.0)\n",
            "Requirement already satisfied: pygments<3.0.0,>=2.13.0 in /usr/local/lib/python3.10/dist-packages (from rich>=10.11.0->typer<1.0,>=0.12->gradio) (2.18.0)\n",
            "Requirement already satisfied: charset-normalizer<4,>=2 in /usr/local/lib/python3.10/dist-packages (from requests->huggingface-hub>=0.25.1->gradio) (3.4.0)\n",
            "Requirement already satisfied: urllib3<3,>=1.21.1 in /usr/local/lib/python3.10/dist-packages (from requests->huggingface-hub>=0.25.1->gradio) (2.2.3)\n",
            "Requirement already satisfied: mdurl~=0.1 in /usr/local/lib/python3.10/dist-packages (from markdown-it-py>=2.2.0->rich>=10.11.0->typer<1.0,>=0.12->gradio) (0.1.2)\n",
            "Downloading gradio-5.7.1-py3-none-any.whl (57.1 MB)\n",
            "\u001b[2K   \u001b[90m━━━━━━━━━━━━━━━━━━━━━━━━━━━━━━━━━━━━━━━━\u001b[0m \u001b[32m57.1/57.1 MB\u001b[0m \u001b[31m11.3 MB/s\u001b[0m eta \u001b[36m0:00:00\u001b[0m\n",
            "\u001b[?25hDownloading gradio_client-1.5.0-py3-none-any.whl (320 kB)\n",
            "\u001b[2K   \u001b[90m━━━━━━━━━━━━━━━━━━━━━━━━━━━━━━━━━━━━━━━━\u001b[0m \u001b[32m320.1/320.1 kB\u001b[0m \u001b[31m20.9 MB/s\u001b[0m eta \u001b[36m0:00:00\u001b[0m\n",
            "\u001b[?25hDownloading python_multipart-0.0.12-py3-none-any.whl (23 kB)\n",
            "Downloading tomlkit-0.12.0-py3-none-any.whl (37 kB)\n",
            "Downloading aiofiles-23.2.1-py3-none-any.whl (15 kB)\n",
            "Downloading fastapi-0.115.5-py3-none-any.whl (94 kB)\n",
            "\u001b[2K   \u001b[90m━━━━━━━━━━━━━━━━━━━━━━━━━━━━━━━━━━━━━━━━\u001b[0m \u001b[32m94.9/94.9 kB\u001b[0m \u001b[31m6.5 MB/s\u001b[0m eta \u001b[36m0:00:00\u001b[0m\n",
            "\u001b[?25hDownloading MarkupSafe-2.1.5-cp310-cp310-manylinux_2_17_x86_64.manylinux2014_x86_64.whl (25 kB)\n",
            "Downloading ruff-0.8.1-py3-none-manylinux_2_17_x86_64.manylinux2014_x86_64.whl (11.2 MB)\n",
            "\u001b[2K   \u001b[90m━━━━━━━━━━━━━━━━━━━━━━━━━━━━━━━━━━━━━━━━\u001b[0m \u001b[32m11.2/11.2 MB\u001b[0m \u001b[31m87.8 MB/s\u001b[0m eta \u001b[36m0:00:00\u001b[0m\n",
            "\u001b[?25hDownloading safehttpx-0.1.1-py3-none-any.whl (8.4 kB)\n",
            "Downloading semantic_version-2.10.0-py2.py3-none-any.whl (15 kB)\n",
            "Downloading starlette-0.41.3-py3-none-any.whl (73 kB)\n",
            "\u001b[2K   \u001b[90m━━━━━━━━━━━━━━━━━━━━━━━━━━━━━━━━━━━━━━━━\u001b[0m \u001b[32m73.2/73.2 kB\u001b[0m \u001b[31m5.1 MB/s\u001b[0m eta \u001b[36m0:00:00\u001b[0m\n",
            "\u001b[?25hDownloading uvicorn-0.32.1-py3-none-any.whl (63 kB)\n",
            "\u001b[2K   \u001b[90m━━━━━━━━━━━━━━━━━━━━━━━━━━━━━━━━━━━━━━━━\u001b[0m \u001b[32m63.8/63.8 kB\u001b[0m \u001b[31m4.2 MB/s\u001b[0m eta \u001b[36m0:00:00\u001b[0m\n",
            "\u001b[?25hDownloading ffmpy-0.4.0-py3-none-any.whl (5.8 kB)\n",
            "Downloading pydub-0.25.1-py2.py3-none-any.whl (32 kB)\n",
            "Downloading websockets-12.0-cp310-cp310-manylinux_2_5_x86_64.manylinux1_x86_64.manylinux_2_17_x86_64.manylinux2014_x86_64.whl (130 kB)\n",
            "\u001b[2K   \u001b[90m━━━━━━━━━━━━━━━━━━━━━━━━━━━━━━━━━━━━━━━━\u001b[0m \u001b[32m130.2/130.2 kB\u001b[0m \u001b[31m9.5 MB/s\u001b[0m eta \u001b[36m0:00:00\u001b[0m\n",
            "\u001b[?25hInstalling collected packages: pydub, websockets, uvicorn, tomlkit, semantic-version, ruff, python-multipart, markupsafe, ffmpy, aiofiles, starlette, safehttpx, gradio-client, fastapi, gradio\n",
            "  Attempting uninstall: markupsafe\n",
            "    Found existing installation: MarkupSafe 3.0.2\n",
            "    Uninstalling MarkupSafe-3.0.2:\n",
            "      Successfully uninstalled MarkupSafe-3.0.2\n",
            "Successfully installed aiofiles-23.2.1 fastapi-0.115.5 ffmpy-0.4.0 gradio-5.7.1 gradio-client-1.5.0 markupsafe-2.1.5 pydub-0.25.1 python-multipart-0.0.12 ruff-0.8.1 safehttpx-0.1.1 semantic-version-2.10.0 starlette-0.41.3 tomlkit-0.12.0 uvicorn-0.32.1 websockets-12.0\n",
            "Failed to train RandomForest for Fire Occurrence: \n",
            "All the 5 fits failed.\n",
            "It is very likely that your model is misconfigured.\n",
            "You can try to debug the error by setting error_score='raise'.\n",
            "\n",
            "Below are more details about the failures:\n",
            "--------------------------------------------------------------------------------\n",
            "5 fits failed with the following error:\n",
            "Traceback (most recent call last):\n",
            "  File \"/usr/local/lib/python3.10/dist-packages/sklearn/model_selection/_validation.py\", line 888, in _fit_and_score\n",
            "    estimator.fit(X_train, y_train, **fit_params)\n",
            "  File \"/usr/local/lib/python3.10/dist-packages/sklearn/base.py\", line 1473, in wrapper\n",
            "    return fit_method(estimator, *args, **kwargs)\n",
            "  File \"/usr/local/lib/python3.10/dist-packages/sklearn/ensemble/_forest.py\", line 363, in fit\n",
            "    X, y = self._validate_data(\n",
            "  File \"/usr/local/lib/python3.10/dist-packages/sklearn/base.py\", line 650, in _validate_data\n",
            "    X, y = check_X_y(X, y, **check_params)\n",
            "  File \"/usr/local/lib/python3.10/dist-packages/sklearn/utils/validation.py\", line 1318, in check_X_y\n",
            "    y = _check_y(y, multi_output=multi_output, y_numeric=y_numeric, estimator=estimator)\n",
            "  File \"/usr/local/lib/python3.10/dist-packages/sklearn/utils/validation.py\", line 1328, in _check_y\n",
            "    y = check_array(\n",
            "  File \"/usr/local/lib/python3.10/dist-packages/sklearn/utils/validation.py\", line 1064, in check_array\n",
            "    _assert_all_finite(\n",
            "  File \"/usr/local/lib/python3.10/dist-packages/sklearn/utils/validation.py\", line 123, in _assert_all_finite\n",
            "    _assert_all_finite_element_wise(\n",
            "  File \"/usr/local/lib/python3.10/dist-packages/sklearn/utils/validation.py\", line 172, in _assert_all_finite_element_wise\n",
            "    raise ValueError(msg_err)\n",
            "ValueError: Input y contains NaN.\n",
            "\n",
            "Failed to train LinearRegression for Fire Occurrence: \n",
            "All the 5 fits failed.\n",
            "It is very likely that your model is misconfigured.\n",
            "You can try to debug the error by setting error_score='raise'.\n",
            "\n",
            "Below are more details about the failures:\n",
            "--------------------------------------------------------------------------------\n",
            "5 fits failed with the following error:\n",
            "Traceback (most recent call last):\n",
            "  File \"/usr/local/lib/python3.10/dist-packages/sklearn/model_selection/_validation.py\", line 888, in _fit_and_score\n",
            "    estimator.fit(X_train, y_train, **fit_params)\n",
            "  File \"/usr/local/lib/python3.10/dist-packages/sklearn/base.py\", line 1473, in wrapper\n",
            "    return fit_method(estimator, *args, **kwargs)\n",
            "  File \"/usr/local/lib/python3.10/dist-packages/sklearn/linear_model/_base.py\", line 609, in fit\n",
            "    X, y = self._validate_data(\n",
            "  File \"/usr/local/lib/python3.10/dist-packages/sklearn/base.py\", line 650, in _validate_data\n",
            "    X, y = check_X_y(X, y, **check_params)\n",
            "  File \"/usr/local/lib/python3.10/dist-packages/sklearn/utils/validation.py\", line 1318, in check_X_y\n",
            "    y = _check_y(y, multi_output=multi_output, y_numeric=y_numeric, estimator=estimator)\n",
            "  File \"/usr/local/lib/python3.10/dist-packages/sklearn/utils/validation.py\", line 1328, in _check_y\n",
            "    y = check_array(\n",
            "  File \"/usr/local/lib/python3.10/dist-packages/sklearn/utils/validation.py\", line 1064, in check_array\n",
            "    _assert_all_finite(\n",
            "  File \"/usr/local/lib/python3.10/dist-packages/sklearn/utils/validation.py\", line 123, in _assert_all_finite\n",
            "    _assert_all_finite_element_wise(\n",
            "  File \"/usr/local/lib/python3.10/dist-packages/sklearn/utils/validation.py\", line 172, in _assert_all_finite_element_wise\n",
            "    raise ValueError(msg_err)\n",
            "ValueError: Input y contains NaN.\n",
            "\n",
            "Failed to train SVR for Fire Occurrence: \n",
            "All the 5 fits failed.\n",
            "It is very likely that your model is misconfigured.\n",
            "You can try to debug the error by setting error_score='raise'.\n",
            "\n",
            "Below are more details about the failures:\n",
            "--------------------------------------------------------------------------------\n",
            "5 fits failed with the following error:\n",
            "Traceback (most recent call last):\n",
            "  File \"/usr/local/lib/python3.10/dist-packages/sklearn/model_selection/_validation.py\", line 888, in _fit_and_score\n",
            "    estimator.fit(X_train, y_train, **fit_params)\n",
            "  File \"/usr/local/lib/python3.10/dist-packages/sklearn/base.py\", line 1473, in wrapper\n",
            "    return fit_method(estimator, *args, **kwargs)\n",
            "  File \"/usr/local/lib/python3.10/dist-packages/sklearn/svm/_base.py\", line 190, in fit\n",
            "    X, y = self._validate_data(\n",
            "  File \"/usr/local/lib/python3.10/dist-packages/sklearn/base.py\", line 650, in _validate_data\n",
            "    X, y = check_X_y(X, y, **check_params)\n",
            "  File \"/usr/local/lib/python3.10/dist-packages/sklearn/utils/validation.py\", line 1318, in check_X_y\n",
            "    y = _check_y(y, multi_output=multi_output, y_numeric=y_numeric, estimator=estimator)\n",
            "  File \"/usr/local/lib/python3.10/dist-packages/sklearn/utils/validation.py\", line 1340, in _check_y\n",
            "    _assert_all_finite(y, input_name=\"y\", estimator_name=estimator_name)\n",
            "  File \"/usr/local/lib/python3.10/dist-packages/sklearn/utils/validation.py\", line 123, in _assert_all_finite\n",
            "    _assert_all_finite_element_wise(\n",
            "  File \"/usr/local/lib/python3.10/dist-packages/sklearn/utils/validation.py\", line 172, in _assert_all_finite_element_wise\n",
            "    raise ValueError(msg_err)\n",
            "ValueError: Input y contains NaN.\n",
            "\n",
            "Failed to train KNN for Fire Occurrence: \n",
            "All the 5 fits failed.\n",
            "It is very likely that your model is misconfigured.\n",
            "You can try to debug the error by setting error_score='raise'.\n",
            "\n",
            "Below are more details about the failures:\n",
            "--------------------------------------------------------------------------------\n",
            "5 fits failed with the following error:\n",
            "Traceback (most recent call last):\n",
            "  File \"/usr/local/lib/python3.10/dist-packages/sklearn/model_selection/_validation.py\", line 888, in _fit_and_score\n",
            "    estimator.fit(X_train, y_train, **fit_params)\n",
            "  File \"/usr/local/lib/python3.10/dist-packages/sklearn/base.py\", line 1473, in wrapper\n",
            "    return fit_method(estimator, *args, **kwargs)\n",
            "  File \"/usr/local/lib/python3.10/dist-packages/sklearn/neighbors/_regression.py\", line 227, in fit\n",
            "    return self._fit(X, y)\n",
            "  File \"/usr/local/lib/python3.10/dist-packages/sklearn/neighbors/_base.py\", line 475, in _fit\n",
            "    X, y = self._validate_data(\n",
            "  File \"/usr/local/lib/python3.10/dist-packages/sklearn/base.py\", line 650, in _validate_data\n",
            "    X, y = check_X_y(X, y, **check_params)\n",
            "  File \"/usr/local/lib/python3.10/dist-packages/sklearn/utils/validation.py\", line 1318, in check_X_y\n",
            "    y = _check_y(y, multi_output=multi_output, y_numeric=y_numeric, estimator=estimator)\n",
            "  File \"/usr/local/lib/python3.10/dist-packages/sklearn/utils/validation.py\", line 1328, in _check_y\n",
            "    y = check_array(\n",
            "  File \"/usr/local/lib/python3.10/dist-packages/sklearn/utils/validation.py\", line 1064, in check_array\n",
            "    _assert_all_finite(\n",
            "  File \"/usr/local/lib/python3.10/dist-packages/sklearn/utils/validation.py\", line 123, in _assert_all_finite\n",
            "    _assert_all_finite_element_wise(\n",
            "  File \"/usr/local/lib/python3.10/dist-packages/sklearn/utils/validation.py\", line 172, in _assert_all_finite_element_wise\n",
            "    raise ValueError(msg_err)\n",
            "ValueError: Input y contains NaN.\n",
            "\n",
            "Running Gradio in a Colab notebook requires sharing enabled. Automatically setting `share=True` (you can turn this off by setting `share=False` in `launch()` explicitly).\n",
            "\n",
            "Colab notebook detected. To show errors in colab notebook, set debug=True in launch()\n",
            "* Running on public URL: https://d9cde1a6fc85ec025f.gradio.live\n",
            "\n",
            "This share link expires in 72 hours. For free permanent hosting and GPU upgrades, run `gradio deploy` from the terminal in the working directory to deploy to Hugging Face Spaces (https://huggingface.co/spaces)\n"
          ]
        },
        {
          "output_type": "display_data",
          "data": {
            "text/plain": [
              "<IPython.core.display.HTML object>"
            ],
            "text/html": [
              "<div><iframe src=\"https://d9cde1a6fc85ec025f.gradio.live\" width=\"100%\" height=\"500\" allow=\"autoplay; camera; microphone; clipboard-read; clipboard-write;\" frameborder=\"0\" allowfullscreen></iframe></div>"
            ]
          },
          "metadata": {}
        }
      ]
    }
  ]
}